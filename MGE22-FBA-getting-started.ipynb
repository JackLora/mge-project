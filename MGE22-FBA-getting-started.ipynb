{
 "cells": [
  {
   "cell_type": "markdown",
   "metadata": {
    "toc": true
   },
   "source": [
    "<h1>Table of Contents<span class=\"tocSkip\"></span></h1>\n",
    "<div class=\"toc\"><ul class=\"toc-item\"><li><span><a href=\"#Build-a-simple-model\" data-toc-modified-id=\"Build-a-simple-model-1\"><span class=\"toc-item-num\">1&nbsp;&nbsp;</span>Build a simple model</a></span><ul class=\"toc-item\"><li><span><a href=\"#EX-1.-One-reaction-model\" data-toc-modified-id=\"EX-1.-One-reaction-model-1.1\"><span class=\"toc-item-num\">1.1&nbsp;&nbsp;</span><strong>EX 1</strong>. One reaction model</a></span></li></ul></li><li><span><a href=\"#Calculating-growth-rates\" data-toc-modified-id=\"Calculating-growth-rates-2\"><span class=\"toc-item-num\">2&nbsp;&nbsp;</span>Calculating growth rates</a></span><ul class=\"toc-item\"><li><span><a href=\"#The-Biomass-growth-objective-function\" data-toc-modified-id=\"The-Biomass-growth-objective-function-2.1\"><span class=\"toc-item-num\">2.1&nbsp;&nbsp;</span>The Biomass growth objective function</a></span></li><li><span><a href=\"#EX-2.-Growth-under-aerobic-conditions\" data-toc-modified-id=\"EX-2.-Growth-under-aerobic-conditions-2.2\"><span class=\"toc-item-num\">2.2&nbsp;&nbsp;</span><strong>EX 2</strong>. Growth under aerobic conditions</a></span></li><li><span><a href=\"#Map-Draw-Function\" data-toc-modified-id=\"Map-Draw-Function-2.3\"><span class=\"toc-item-num\">2.3&nbsp;&nbsp;</span>Map Draw Function</a></span></li><li><span><a href=\"#EX-3.-Growth-in-ANAEROBIC-conditions\" data-toc-modified-id=\"EX-3.-Growth-in-ANAEROBIC-conditions-2.4\"><span class=\"toc-item-num\">2.4&nbsp;&nbsp;</span><strong>EX 3</strong>. Growth in ANAEROBIC conditions</a></span></li><li><span><a href=\"#EX-4.-Growth-on-succinate\" data-toc-modified-id=\"EX-4.-Growth-on-succinate-2.5\"><span class=\"toc-item-num\">2.5&nbsp;&nbsp;</span><strong>EX 4</strong>. Growth on succinate</a></span></li><li><span><a href=\"#EX-5.-Growth-on-succinate-under-anaerobic-conditions\" data-toc-modified-id=\"EX-5.-Growth-on-succinate-under-anaerobic-conditions-2.6\"><span class=\"toc-item-num\">2.6&nbsp;&nbsp;</span><strong>EX 5</strong>. Growth on succinate under anaerobic conditions</a></span></li></ul></li></ul></div>"
   ]
  },
  {
   "cell_type": "markdown",
   "metadata": {},
   "source": [
    "# Quantitative and Computational Biology\n",
    "# Getting-Started"
   ]
  },
  {
   "cell_type": "code",
   "execution_count": 11,
   "metadata": {},
   "outputs": [],
   "source": [
    "# Import Python Packages\n",
    "import json # for saving files in json format\n",
    "import cobra # main package\n",
    "from escher import Builder # to draw maps\n",
    "import pandas # to create dataframes and graphs\n",
    "# to have inline matplotlib graphs\n",
    "%matplotlib inline "
   ]
  },
  {
   "cell_type": "markdown",
   "metadata": {},
   "source": [
    "##  Build a simple model"
   ]
  },
  {
   "cell_type": "code",
   "execution_count": 12,
   "metadata": {},
   "outputs": [],
   "source": [
    "from cobra import Model, Reaction, Metabolite\n",
    "# Initialize Model\n",
    "model = Model('simple_model')"
   ]
  },
  {
   "cell_type": "code",
   "execution_count": 14,
   "metadata": {},
   "outputs": [
    {
     "name": "stdout",
     "output_type": "stream",
     "text": [
      "simple_model\n"
     ]
    }
   ],
   "source": [
    "# Create reaction (not yet in the model)\n",
    "reaction = Reaction('R00658')\n",
    "reaction.name = '2-phospho-D-glycerate hydro-lyase'\n",
    "reaction.subsystem = 'Glycolysis (Embden-Meyerhof pathway)'\n",
    "reaction.lower_bound = 0.0\n",
    "reaction.upper_bound = 1000.0"
   ]
  },
  {
   "cell_type": "code",
   "execution_count": 4,
   "metadata": {},
   "outputs": [],
   "source": [
    "# Create Metabolites\n",
    "pg2_c = Metabolite('2pg_c', \n",
    "                   formula='C3H7O7P', \n",
    "                   name='2-Phospho-D-glycerate', \n",
    "                   compartment='c')\n",
    "pep_c = Metabolite('pep_c', \n",
    "                   formula='C3H5O6P', \n",
    "                   name='Phosphoenolpyruvate', \n",
    "                   compartment='c')\n",
    "h2O_c = Metabolite('h2O_c', \n",
    "                   formula='H2O', \n",
    "                   name='H20', \n",
    "                   compartment='c')"
   ]
  },
  {
   "cell_type": "code",
   "execution_count": 5,
   "metadata": {},
   "outputs": [
    {
     "name": "stdout",
     "output_type": "stream",
     "text": [
      "frozenset({<Gene CP006584 at 0x7f2f7137d400>})\n",
      "R00658: 2pg_c --> h2O_c + pep_c\n"
     ]
    }
   ],
   "source": [
    "reaction.add_metabolites({\n",
    "    pg2_c: -1.0,\n",
    "    pep_c: 1.0,\n",
    "    h2O_c: 1.0\n",
    "})\n",
    "\n",
    "reaction.annotation['EC_number'] = '4.2.1.11'\n",
    "#reaction.bounds = (-1000.0, 1000.0)\n",
    "reaction.gene_reaction_rule = 'CP006584'\n",
    "print(reaction.genes)\n",
    "print(reaction)"
   ]
  },
  {
   "cell_type": "code",
   "execution_count": 7,
   "metadata": {
    "scrolled": true
   },
   "outputs": [
    {
     "name": "stdout",
     "output_type": "stream",
     "text": [
      "R00658 : 2pg_c --> h2O_c + pep_c\n",
      "    2pg_c : C3H7O7P\n",
      "    pep_c : C3H5O6P\n",
      "    h2O_c : H2O\n",
      "CP006584 is associated with reactions: {R00658}\n"
     ]
    }
   ],
   "source": [
    "model.add_reaction(reaction)\n",
    "for x in model.reactions:\n",
    "    print(\"%s : %s\" % (x.id, x.reaction))\n",
    "\n",
    "for x in model.metabolites:\n",
    "    print('%9s : %s' % (x.id, x.formula))\n",
    "\n",
    "for x in model.genes:\n",
    "    associated_ids = (i.id for i in x.reactions)\n",
    "    print(\"%s is associated with reactions: %s\" %\n",
    "          (x.id, \"{\" + \", \".join(associated_ids) + \"}\"))"
   ]
  },
  {
   "cell_type": "code",
   "execution_count": 15,
   "metadata": {},
   "outputs": [
    {
     "name": "stdout",
     "output_type": "stream",
     "text": [
      "Number of Reactions: 0\n",
      "Number of Metabolites: 0\n",
      "Number of Genes: 0\n",
      "simple_model\n"
     ]
    }
   ],
   "source": [
    "print(\"Number of Reactions: %s\" % len(model.reactions))\n",
    "print(\"Number of Metabolites: {0}\".format(len(model.metabolites)))\n",
    "print(f\"Number of Genes: {len(model.genes)}\")"
   ]
  },
  {
   "cell_type": "code",
   "execution_count": 7,
   "metadata": {},
   "outputs": [
    {
     "name": "stdout",
     "output_type": "stream",
     "text": [
      "1.0*R00658 - 1.0*R00658_reverse_2bd5c\n",
      "max\n"
     ]
    }
   ],
   "source": [
    "model.objective = 'R00658'\n",
    "print(model.objective.expression)\n",
    "print(model.objective.direction)"
   ]
  },
  {
   "cell_type": "code",
   "execution_count": 8,
   "metadata": {},
   "outputs": [
    {
     "data": {
      "text/plain": [
       "R00658    0.0\n",
       "Name: fluxes, dtype: float64"
      ]
     },
     "execution_count": 8,
     "metadata": {},
     "output_type": "execute_result"
    }
   ],
   "source": [
    "solution = model.optimize()\n",
    "solution.fluxes"
   ]
  },
  {
   "cell_type": "markdown",
   "metadata": {},
   "source": [
    "### Model validation"
   ]
  },
  {
   "cell_type": "code",
   "execution_count": 9,
   "metadata": {},
   "outputs": [],
   "source": [
    "from cobra.io import validate_sbml_model"
   ]
  },
  {
   "cell_type": "code",
   "execution_count": 10,
   "metadata": {},
   "outputs": [
    {
     "name": "stdout",
     "output_type": "stream",
     "text": [
      "(<Model simple_model at 0x120c93280>,\n",
      " {'COBRA_CHECK': [],\n",
      "  'COBRA_ERROR': [],\n",
      "  'COBRA_FATAL': [],\n",
      "  'COBRA_WARNING': [],\n",
      "  'SBML_ERROR': [],\n",
      "  'SBML_FATAL': [],\n",
      "  'SBML_SCHEMA_ERROR': [],\n",
      "  'SBML_WARNING': []})\n"
     ]
    }
   ],
   "source": [
    "import tempfile\n",
    "from pprint import pprint\n",
    "from cobra.io import write_sbml_model, validate_sbml_model\n",
    "with tempfile.NamedTemporaryFile(suffix='.xml') as f_sbml:\n",
    "    write_sbml_model(model, filename=f_sbml.name)\n",
    "    report = validate_sbml_model(filename=f_sbml.name)\n",
    "\n",
    "pprint(report)"
   ]
  },
  {
   "cell_type": "code",
   "execution_count": null,
   "metadata": {},
   "outputs": [],
   "source": []
  },
  {
   "cell_type": "raw",
   "metadata": {},
   "source": [
    "### **EX 1**. One reaction model\n",
    "Create a simple model with a reaction selected from the main metabolism. \n",
    "\n",
    "Ref. https://www.genome.jp/kegg/pathway.html#metabolism"
   ]
  },
  {
   "cell_type": "code",
   "execution_count": 11,
   "metadata": {},
   "outputs": [],
   "source": [
    "# INSERT HERE YOUR CODE"
   ]
  },
  {
   "cell_type": "markdown",
   "metadata": {},
   "source": [
    "## Calculating growth rates"
   ]
  },
  {
   "cell_type": "code",
   "execution_count": 12,
   "metadata": {},
   "outputs": [
    {
     "name": "stdout",
     "output_type": "stream",
     "text": [
      "Number of Reactions: 95\n",
      "Number of Metabolites: 72\n",
      "Number of Genes: 137\n",
      "{'EX_co2_e': 1000.0, 'EX_glc__D_e': 10.0, 'EX_h_e': 1000.0, 'EX_h2o_e': 1000.0, 'EX_nh4_e': 1000.0, 'EX_o2_e': 1000.0, 'EX_pi_e': 1000.0}\n"
     ]
    },
    {
     "data": {
      "text/plain": [
       "'2pg_c <=> h2o_c + pep_c'"
      ]
     },
     "execution_count": 12,
     "metadata": {},
     "output_type": "execute_result"
    }
   ],
   "source": [
    "# load model (you can download it here: http://bigg.ucsd.edu/models/e_coli_core)\n",
    "ecoli_core = cobra.io.read_sbml_model('./e_coli_core.xml')\n",
    "\n",
    "# Create a copy of the original model (it will turn to be useful during the tutorial to reset the model)\n",
    "ecoli_core_model = ecoli_core.copy()\n",
    "\n",
    "# In the following three different ways of formatting output (more information here: https://pyformat.info/)\n",
    "print(\"Number of Reactions: %s\" % len(ecoli_core_model.reactions))\n",
    "print(\"Number of Metabolites: {0}\".format(len(ecoli_core_model.metabolites)))\n",
    "print(f\"Number of Genes: {len(ecoli_core_model.genes)}\")\n",
    "\n",
    "# NEW OBJECT FOR MEDIUM\n",
    "print(ecoli_core_model.medium)\n",
    "ecoli_core.reactions.ENO.reaction"
   ]
  },
  {
   "cell_type": "markdown",
   "metadata": {},
   "source": [
    "### The Biomass growth objective function \n",
    "The metabolic network includes a biomass production pseudo-reaction that consumes essential biomass metabolites, with its stoichiometric coefficients representing the molar quantities required for generating a unit mass of cells (in units of $mmol/gDW$). This reaction's flux activity represents the growth rate (in units of $1/h$).\n",
    "source (Orth et al. 2010)\n"
   ]
  },
  {
   "cell_type": "code",
   "execution_count": 13,
   "metadata": {},
   "outputs": [
    {
     "name": "stdout",
     "output_type": "stream",
     "text": [
      "Objective Function --> Maximize\n",
      "1.0*BIOMASS_Ecoli_core_w_GAM - 1.0*BIOMASS_Ecoli_core_w_GAM_reverse_712e5\n",
      "1.496 3pg_c + 3.7478 accoa_c + 59.81 atp_c + 0.361 e4p_c + 0.0709 f6p_c + 0.129 g3p_c + 0.205 g6p_c + 0.2557 gln__L_c + 4.9414 glu__L_c + 59.81 h2o_c + 3.547 nad_c + 13.0279 nadph_c + 1.7867 oaa_c + 0.5191 pep_c + 2.8328 pyr_c + 0.8977 r5p_c --> 59.81 adp_c + 4.1182 akg_c + 3.7478 coa_c + 59.81 h_c + 3.547 nadh_c + 13.0279 nadp_c + 59.81 pi_c\n"
     ]
    }
   ],
   "source": [
    "# Print objective function\n",
    "print(\"Objective Function --> %s\" % ecoli_core_model.objective)\n",
    "obj_fnc = ecoli_core_model.reactions.get_by_id(\"BIOMASS_Ecoli_core_w_GAM\")\n",
    "print(obj_fnc.reaction)"
   ]
  },
  {
   "cell_type": "markdown",
   "metadata": {},
   "source": [
    "### **EX 2**. Growth under aerobic conditions"
   ]
  },
  {
   "cell_type": "code",
   "execution_count": 14,
   "metadata": {},
   "outputs": [
    {
     "name": "stdout",
     "output_type": "stream",
     "text": [
      "Glucose Uptake bounds: -18.5 < v < 1000.0\n",
      "Oxigen Uptake bounds: -1000 < v < 1000.0\n",
      "Objective function solution: 1.653072\n",
      "Linear Solver Status: optimal\n",
      "Objective\n",
      "=========\n",
      "1.0 BIOMASS_Ecoli_core_w_GAM = 1.6530718511568285\n",
      "\n",
      "Uptake\n",
      "------\n",
      "Metabolite    Reaction  Flux  C-Number  C-Flux\n",
      "  glc__D_e EX_glc__D_e  18.5         6 100.00%\n",
      "     nh4_e    EX_nh4_e 9.014         0   0.00%\n",
      "      o2_e     EX_o2_e 38.74         0   0.00%\n",
      "      pi_e     EX_pi_e 6.081         0   0.00%\n",
      "\n",
      "Secretion\n",
      "---------\n",
      "Metabolite Reaction   Flux  C-Number  C-Flux\n",
      "     co2_e EX_co2_e -40.65         1 100.00%\n",
      "     h2o_e EX_h2o_e -52.69         0   0.00%\n",
      "       h_e   EX_h_e -33.16         0   0.00%\n",
      "\n",
      "8.881784197001252e-16\n"
     ]
    },
    {
     "data": {
      "text/plain": [
       "{'EX_co2_e': 1000.0,\n",
       " 'EX_glc__D_e': 18.5,\n",
       " 'EX_h_e': 1000.0,\n",
       " 'EX_h2o_e': 1000.0,\n",
       " 'EX_nh4_e': 1000.0,\n",
       " 'EX_o2_e': 1000,\n",
       " 'EX_pi_e': 1000.0}"
      ]
     },
     "metadata": {},
     "output_type": "display_data"
    }
   ],
   "source": [
    "# Change reaction EX_glc(e) lower bound. the upper limit of glucose uptake rate is set by default to \n",
    "# 10 mmol/g-dry cell/hr\n",
    "# By convention, exchange reactions are written as export reactions (e.g. EX_glc__D_e <==> glc__D_e),\n",
    "# so import of a metabolite is a negative flux\n",
    "ecoli_core_model.reactions.get_by_id('EX_glc__D_e').lower_bound = -18.5\n",
    "ecoli_core_model.reactions.get_by_id('EX_o2_e').lower_bound = -1000\n",
    "lb, ub = ecoli_core_model.reactions.get_by_id('EX_glc__D_e').bounds\n",
    "print(\"Glucose Uptake bounds: {0} < v < {1}\".format(lb, ub))\n",
    "lb, ub = ecoli_core_model.reactions.get_by_id('EX_o2_e').bounds\n",
    "print(\"Oxigen Uptake bounds: {0} < v < {1}\".format(lb, ub))\n",
    "# Optimize model \n",
    "solution = ecoli_core_model.optimize()\n",
    "# Parsimoniuous FBA (minimize total sum of fluxes producing approximately the same result, see below)\n",
    "solution_pFBA = cobra.flux_analysis.pfba(ecoli_core_model)\n",
    "# show FBA results\n",
    "print(\"Objective function solution: %5f\" % solution.objective_value) # Objective function \n",
    "print(\"Linear Solver Status: %s\" % solution.status) # status of the linear prog solver\n",
    "print(ecoli_core_model.summary())\n",
    "print(abs(solution.fluxes[\"BIOMASS_Ecoli_core_w_GAM\"]-solution_pFBA.fluxes[\"BIOMASS_Ecoli_core_w_GAM\"]))\n",
    "display(ecoli_core_model.medium)"
   ]
  },
  {
   "cell_type": "code",
   "execution_count": 15,
   "metadata": {},
   "outputs": [
    {
     "data": {
      "text/html": [
       "<h3>atp_c</h3><p>C10H12N5O13P3</p><h4>Producing Reactions</h4><table border=\"1\" class=\"dataframe\">\n",
       "  <thead>\n",
       "    <tr style=\"text-align: right;\">\n",
       "      <th>Percent</th>\n",
       "      <th>Flux</th>\n",
       "      <th>Reaction</th>\n",
       "      <th>Definition</th>\n",
       "    </tr>\n",
       "  </thead>\n",
       "  <tbody>\n",
       "    <tr>\n",
       "      <td>66.48%</td>\n",
       "      <td>80.61</td>\n",
       "      <td>ATPS4r</td>\n",
       "      <td>adp_c + 4.0 h_e + pi_c &lt;=&gt; atp_c + h2o_c + 3.0 h_c</td>\n",
       "    </tr>\n",
       "    <tr>\n",
       "      <td>24.18%</td>\n",
       "      <td>29.31</td>\n",
       "      <td>PGK</td>\n",
       "      <td>3pg_c + atp_c &lt;=&gt; 13dpg_c + adp_c</td>\n",
       "    </tr>\n",
       "    <tr>\n",
       "      <td>2.26%</td>\n",
       "      <td>2.744</td>\n",
       "      <td>PYK</td>\n",
       "      <td>adp_c + h_c + pep_c --&gt; atp_c + pyr_c</td>\n",
       "    </tr>\n",
       "    <tr>\n",
       "      <td>7.08%</td>\n",
       "      <td>8.582</td>\n",
       "      <td>SUCOAS</td>\n",
       "      <td>atp_c + coa_c + succ_c &lt;=&gt; adp_c + pi_c + succoa_c</td>\n",
       "    </tr>\n",
       "  </tbody>\n",
       "</table><h4>Consuming Reactions</h4><table border=\"1\" class=\"dataframe\">\n",
       "  <thead>\n",
       "    <tr style=\"text-align: right;\">\n",
       "      <th>Percent</th>\n",
       "      <th>Flux</th>\n",
       "      <th>Reaction</th>\n",
       "      <th>Definition</th>\n",
       "    </tr>\n",
       "  </thead>\n",
       "  <tbody>\n",
       "    <tr>\n",
       "      <td>6.92%</td>\n",
       "      <td>-8.39</td>\n",
       "      <td>ATPM</td>\n",
       "      <td>atp_c + h2o_c --&gt; adp_c + h_c + pi_c</td>\n",
       "    </tr>\n",
       "    <tr>\n",
       "      <td>81.55%</td>\n",
       "      <td>-98.87</td>\n",
       "      <td>BIOMASS_Ecoli_core_w_GAM</td>\n",
       "      <td>1.496 3pg_c + 3.7478 accoa_c + 59.81 atp_c + 0.361 e4p_c + 0.0709 f6p_c + 0.129 g3p_c + 0.205 g6p_c + 0.2557 gln__L_c + 4.9414 glu__L_c + 59.81 h2o_c + 3.547 nad_c + 13.0279 nadph_c + 1.7867 oaa_c + 0.5191 pep_c + 2.8328 pyr_c + 0.8977 r5p_c --&gt; 59.81 adp_c + 4.1182 akg_c + 3.7478 coa_c + 59.81 h_c + 3.547 nadh_c + 13.0279 nadp_c + 59.81 pi_c</td>\n",
       "    </tr>\n",
       "    <tr>\n",
       "      <td>0.35%</td>\n",
       "      <td>-0.4227</td>\n",
       "      <td>GLNS</td>\n",
       "      <td>atp_c + glu__L_c + nh4_c --&gt; adp_c + gln__L_c + h_c + pi_c</td>\n",
       "    </tr>\n",
       "    <tr>\n",
       "      <td>11.19%</td>\n",
       "      <td>-13.56</td>\n",
       "      <td>PFK</td>\n",
       "      <td>atp_c + f6p_c --&gt; adp_c + fdp_c + h_c</td>\n",
       "    </tr>\n",
       "  </tbody>\n",
       "</table>"
      ],
      "text/plain": [
       "<cobra.summary.metabolite_summary.MetaboliteSummary at 0x120e53730>"
      ]
     },
     "execution_count": 15,
     "metadata": {},
     "output_type": "execute_result"
    }
   ],
   "source": [
    "ecoli_core_model.metabolites.atp_c.summary()"
   ]
  },
  {
   "cell_type": "markdown",
   "metadata": {},
   "source": [
    "**Here is high flux in the glycolysis, pentose phosphate, TCA cycle, and oxidative phosphorylation pathways, and that no organic by-products are secreted**"
   ]
  },
  {
   "cell_type": "code",
   "execution_count": 16,
   "metadata": {},
   "outputs": [
    {
     "data": {
      "application/vnd.jupyter.widget-view+json": {
       "model_id": "4809f24582ed406789c59766269074e2",
       "version_major": 2,
       "version_minor": 0
      },
      "text/plain": [
       "Builder(hide_secondary_metabolites=False, metabolite_data={'13dpg_c': -0.047105494664984385, '2pg_c': -0.04201…"
      ]
     },
     "metadata": {},
     "output_type": "display_data"
    }
   ],
   "source": [
    "import escher\n",
    "import escher.urls\n",
    "from escher import Builder\n",
    "# save model in JSON to communicate with escher viewer and create the new map\n",
    "# TO UPLOAD AND VISUALIZE RESULTS ON ESCHER (https://escher.github.io/).\n",
    "cobra.io.save_json_model(ecoli_core_model, 'ecoli_core_model.json')\n",
    "with open('ecoli_core_EX_glc__D_e_reactions.json', 'w') as outfile:  \n",
    "    json.dump(solution.fluxes.to_dict(), outfile)\n",
    "with open('ecoli_core_EX_glc__D_e_metabolites.json', 'w') as outfile:  \n",
    "    json.dump(solution.shadow_prices.to_dict(), outfile)\n",
    "# END JSON CREATION\n",
    "\n",
    "# save model in JSON to communicate with escher viewer and create the new map\n",
    "# TO WRITE JSON --> cobra.io.write_sbml_model(emodel, \"model.xml\")\n",
    "cobra.io.save_json_model(ecoli_core_model, 'ecoli_core_model_ver1.json')\n",
    "\n",
    "with open('ecoli_core_EX_glc__D_e_reactions_ver1.json', 'w') as outfile:  \n",
    "    json.dump(solution.fluxes.to_dict(), outfile)\n",
    "\n",
    "with open('ecoli_core_EX_glc__D_e_metabolites_ver1.json', 'w') as outfile:  \n",
    "    json.dump(solution.shadow_prices.to_dict(), outfile)\n",
    "\n",
    "# Create the builder for the model\n",
    "b = Builder(map_json=\"./e_coli_core.Core metabolism.json\",\n",
    "            model=ecoli_core_model,\n",
    "            reaction_data=solution.fluxes.to_dict(),\n",
    "            reaction_scale=[{'type': 'min', 'color': '#cccccc', 'size': 4},\n",
    "                                   {'type': 'mean', 'color': '#0000dd', 'size': 20},\n",
    "                                   {'type': 'max', 'color': '#ff0000', 'size': 40}],\n",
    "            metabolite_data=solution.shadow_prices.to_dict(),\n",
    "            hide_secondary_metabolites=False)\n",
    "b\n"
   ]
  },
  {
   "cell_type": "markdown",
   "metadata": {},
   "source": [
    "**RESULTS**. There is high flux in the glycolysis, pentose phosphate, TCA cycle, and oxidative phosphorylation pathways, and that no organic by-products are secreted"
   ]
  },
  {
   "cell_type": "markdown",
   "metadata": {},
   "source": [
    "### Map Draw Function\n",
    "Define a function to draw maps every time you need all over the tutorial. \n",
    "\n",
    "Map downloaded from https://escher.github.io/ (LOAD MAP -> MAP -> SAVE MAP (JSON))"
   ]
  },
  {
   "cell_type": "code",
   "execution_count": 17,
   "metadata": {},
   "outputs": [],
   "source": [
    "def draw_map(model, solution):\n",
    "    b = Builder(map_json=\"./e_coli_core.Core metabolism.json\", # Change with the path on your PC. \n",
    "            model=model,\n",
    "            reaction_data=solution.fluxes.to_dict(),\n",
    "            reaction_scale=[{'type': 'min', 'color': '#cccccc', 'size': 4},\n",
    "                                   {'type': 'mean', 'color': '#0000dd', 'size': 20},\n",
    "                                   {'type': 'max', 'color': '#ff0000', 'size': 40}],\n",
    "            metabolite_data=solution.shadow_prices.to_dict(),\n",
    "            hide_secondary_metabolites=False)\n",
    "\n",
    "    return b"
   ]
  },
  {
   "cell_type": "markdown",
   "metadata": {},
   "source": [
    "### **EX 3**. Growth in ANAEROBIC conditions"
   ]
  },
  {
   "cell_type": "code",
   "execution_count": 18,
   "metadata": {},
   "outputs": [
    {
     "name": "stdout",
     "output_type": "stream",
     "text": [
      "Oxigen Uptake bounds: -1000.0 < v < 1000.0\n",
      "Oxigen Uptake bounds: 0.0 < v < 1000.0\n",
      "Objective function solution: 0.470565\n",
      "Linear Solver Status: optimal\n"
     ]
    },
    {
     "data": {
      "text/plain": [
       "{'EX_co2_e': 1000.0,\n",
       " 'EX_glc__D_e': 18.5,\n",
       " 'EX_h_e': 1000.0,\n",
       " 'EX_h2o_e': 1000.0,\n",
       " 'EX_nh4_e': 1000.0,\n",
       " 'EX_pi_e': 1000.0}"
      ]
     },
     "execution_count": 18,
     "metadata": {},
     "output_type": "execute_result"
    }
   ],
   "source": [
    "# reset model\n",
    "ecoli_core_model = ecoli_core.copy()\n",
    "ecoli_core_model.reactions.get_by_id('EX_glc__D_e').lower_bound = -18.5\n",
    "lb, ub = ecoli_core_model.reactions.get_by_id('EX_o2_e').bounds\n",
    "print(\"Oxigen Uptake bounds: {0} < v < {1}\".format(lb, ub))\n",
    "ecoli_core_model.reactions.get_by_id('EX_o2_e').lower_bound = 0.0\n",
    "lb, ub = ecoli_core_model.reactions.get_by_id('EX_o2_e').bounds\n",
    "print(\"Oxigen Uptake bounds: {0} < v < {1}\".format(lb, ub))\n",
    "# Optimize model \n",
    "solution = ecoli_core_model.optimize()\n",
    "# show FBA results\n",
    "print(\"Objective function solution: %5f\" % solution.objective_value) # Objective function \n",
    "print(\"Linear Solver Status: %s\" % solution.status) # status of the linear prog solver\n",
    "ecoli_core_model.summary()\n",
    "ecoli_core_model.medium"
   ]
  },
  {
   "cell_type": "code",
   "execution_count": 19,
   "metadata": {},
   "outputs": [
    {
     "data": {
      "application/vnd.jupyter.widget-view+json": {
       "model_id": "3f6e136a331a4e40bac6606dc3de89c5",
       "version_major": 2,
       "version_minor": 0
      },
      "text/plain": [
       "Builder(hide_secondary_metabolites=False, metabolite_data={'13dpg_c': -0.03599710029512122, '2pg_c': -0.024921…"
      ]
     },
     "metadata": {},
     "output_type": "display_data"
    }
   ],
   "source": [
    "draw_map(ecoli_core_model, solution)"
   ]
  },
  {
   "cell_type": "markdown",
   "metadata": {},
   "source": [
    "**The flux distribution shows that oxidative phosphorylation is not used in these conditions, and that acetate, formate, and ethanol are produced by fermentation pathways**"
   ]
  },
  {
   "cell_type": "markdown",
   "metadata": {},
   "source": [
    "### **EX 4**. Growth on succinate \n",
    "The core E. coli model contains exchange reactions for 13 different organic compounds, each of which can be used as carbon source under both aerobic anaerobic conditions."
   ]
  },
  {
   "cell_type": "code",
   "execution_count": 20,
   "metadata": {},
   "outputs": [
    {
     "name": "stdout",
     "output_type": "stream",
     "text": [
      "EX_ac_e (0.0, 1000.0) [Acetate exchange]: ac_e --> \n",
      "EX_acald_e (0.0, 1000.0) [Acetaldehyde exchange]: acald_e --> \n",
      "EX_akg_e (0.0, 1000.0) [2-Oxoglutarate exchange]: akg_e --> \n",
      "EX_etoh_e (0.0, 1000.0) [Ethanol exchange]: etoh_e --> \n",
      "EX_for_e (0.0, 1000.0) [Formate exchange]: for_e --> \n",
      "EX_fru_e (0.0, 1000.0) [D-Fructose exchange]: fru_e --> \n",
      "EX_fum_e (0.0, 1000.0) [Fumarate exchange]: fum_e --> \n",
      "EX_gln__L_e (0.0, 1000.0) [L-Glutamine exchange]: gln__L_e --> \n",
      "EX_glu__L_e (0.0, 1000.0) [L-Glutamate exchange]: glu__L_e --> \n",
      "EX_glc__D_e (-18.5, 1000.0) [D-Glucose exchange]: glc__D_e <=> \n",
      "EX_lac__D_e (0.0, 1000.0) [D-lactate exchange]: lac__D_e --> \n",
      "EX_mal__L_e (0.0, 1000.0) [L-Malate exchange]: mal__L_e --> \n",
      "EX_pyr_e (0.0, 1000.0) [Pyruvate exchange]: pyr_e --> \n",
      "EX_succ_e (0.0, 1000.0) [Succinate exchange]: succ_e --> \n"
     ]
    },
    {
     "data": {
      "text/plain": [
       "{'EX_co2_e': 1000.0,\n",
       " 'EX_glc__D_e': 18.5,\n",
       " 'EX_h_e': 1000.0,\n",
       " 'EX_h2o_e': 1000.0,\n",
       " 'EX_nh4_e': 1000.0,\n",
       " 'EX_pi_e': 1000.0}"
      ]
     },
     "execution_count": 20,
     "metadata": {},
     "output_type": "execute_result"
    }
   ],
   "source": [
    "# Carbon Source Reaction IDs\n",
    "EX_uptakes = [\n",
    "    'EX_ac_e',\n",
    "    'EX_acald_e',\n",
    "    'EX_akg_e',\n",
    "    'EX_etoh_e',\n",
    "    'EX_for_e', \n",
    "    'EX_fru_e',\n",
    "    'EX_fum_e',\n",
    "    'EX_gln__L_e', \n",
    "    'EX_glu__L_e',\n",
    "    'EX_glc__D_e',\n",
    "    'EX_lac__D_e', \n",
    "    'EX_mal__L_e',\n",
    "    'EX_pyr_e',\n",
    "    'EX_succ_e',\n",
    "]\n",
    "for i in EX_uptakes:\n",
    "    rct = ecoli_core_model.reactions.get_by_id(i)\n",
    "    print('%s %s [%s]: %s' % (rct.id, rct.bounds, rct.name, rct.reaction))\n",
    "    \n",
    "ecoli_core_model.medium"
   ]
  },
  {
   "cell_type": "code",
   "execution_count": 21,
   "metadata": {},
   "outputs": [
    {
     "name": "stdout",
     "output_type": "stream",
     "text": [
      "Glucose Uptake bounds: 0.0 < v < 1000.0\n",
      "Succinate Uptake bounds: -18.0 < v < 1000.0\n"
     ]
    }
   ],
   "source": [
    "# reset model\n",
    "ecoli_core_model = ecoli_core.copy()\n",
    "# Change substrate to EX_succ_e\n",
    "ecoli_core_model.reactions.get_by_id('EX_glc__D_e').lower_bound = 0.0\n",
    "lb, ub = ecoli_core_model.reactions.get_by_id('EX_glc__D_e').bounds\n",
    "print(\"Glucose Uptake bounds: {0} < v < {1}\".format(lb, ub))\n",
    "ecoli_core_model.reactions.get_by_id('EX_succ_e').lower_bound = -18.0\n",
    "lb, ub = ecoli_core_model.reactions.get_by_id('EX_succ_e').bounds\n",
    "print(\"Succinate Uptake bounds: {0} < v < {1}\".format(lb, ub))\n"
   ]
  },
  {
   "cell_type": "code",
   "execution_count": 22,
   "metadata": {},
   "outputs": [
    {
     "name": "stdout",
     "output_type": "stream",
     "text": [
      "Objective function solution: 0.751620\n",
      "Linear Solver Status: optimal\n"
     ]
    },
    {
     "data": {
      "text/html": [
       "<h3>Objective</h3><p>1.0 BIOMASS_Ecoli_core_w_GAM = 0.7516199445632717</p><h4>Uptake</h4><table border=\"1\" class=\"dataframe\">\n",
       "  <thead>\n",
       "    <tr style=\"text-align: right;\">\n",
       "      <th>Metabolite</th>\n",
       "      <th>Reaction</th>\n",
       "      <th>Flux</th>\n",
       "      <th>C-Number</th>\n",
       "      <th>C-Flux</th>\n",
       "    </tr>\n",
       "  </thead>\n",
       "  <tbody>\n",
       "    <tr>\n",
       "      <td>h_e</td>\n",
       "      <td>EX_h_e</td>\n",
       "      <td>20.92</td>\n",
       "      <td>0</td>\n",
       "      <td>0.00%</td>\n",
       "    </tr>\n",
       "    <tr>\n",
       "      <td>nh4_e</td>\n",
       "      <td>EX_nh4_e</td>\n",
       "      <td>4.098</td>\n",
       "      <td>0</td>\n",
       "      <td>0.00%</td>\n",
       "    </tr>\n",
       "    <tr>\n",
       "      <td>o2_e</td>\n",
       "      <td>EX_o2_e</td>\n",
       "      <td>30.15</td>\n",
       "      <td>0</td>\n",
       "      <td>0.00%</td>\n",
       "    </tr>\n",
       "    <tr>\n",
       "      <td>pi_e</td>\n",
       "      <td>EX_pi_e</td>\n",
       "      <td>2.765</td>\n",
       "      <td>0</td>\n",
       "      <td>0.00%</td>\n",
       "    </tr>\n",
       "    <tr>\n",
       "      <td>succ_e</td>\n",
       "      <td>EX_succ_e</td>\n",
       "      <td>18</td>\n",
       "      <td>4</td>\n",
       "      <td>100.00%</td>\n",
       "    </tr>\n",
       "  </tbody>\n",
       "</table><h4>Secretion</h4><table border=\"1\" class=\"dataframe\">\n",
       "  <thead>\n",
       "    <tr style=\"text-align: right;\">\n",
       "      <th>Metabolite</th>\n",
       "      <th>Reaction</th>\n",
       "      <th>Flux</th>\n",
       "      <th>C-Number</th>\n",
       "      <th>C-Flux</th>\n",
       "    </tr>\n",
       "  </thead>\n",
       "  <tbody>\n",
       "    <tr>\n",
       "      <td>co2_e</td>\n",
       "      <td>EX_co2_e</td>\n",
       "      <td>-40.01</td>\n",
       "      <td>1</td>\n",
       "      <td>100.00%</td>\n",
       "    </tr>\n",
       "    <tr>\n",
       "      <td>h2o_e</td>\n",
       "      <td>EX_h2o_e</td>\n",
       "      <td>-27.49</td>\n",
       "      <td>0</td>\n",
       "      <td>0.00%</td>\n",
       "    </tr>\n",
       "  </tbody>\n",
       "</table>"
      ],
      "text/plain": [
       "<cobra.summary.model_summary.ModelSummary at 0x120f26130>"
      ]
     },
     "execution_count": 22,
     "metadata": {},
     "output_type": "execute_result"
    }
   ],
   "source": [
    "# Optimize model \n",
    "solution_succ = ecoli_core_model.optimize()\n",
    "# show FBA results\n",
    "print(\"Objective function solution: %5f\" % solution_succ.objective_value) # Objective function \n",
    "print(\"Linear Solver Status: %s\" % solution_succ.status) # status of the linear prog solver\n",
    "ecoli_core_model.medium\n",
    "ecoli_core_model.summary()"
   ]
  },
  {
   "cell_type": "code",
   "execution_count": 23,
   "metadata": {},
   "outputs": [
    {
     "data": {
      "application/vnd.jupyter.widget-view+json": {
       "model_id": "441bec6bea4944ad902474cc1328545b",
       "version_major": 2,
       "version_minor": 0
      },
      "text/plain": [
       "Builder(hide_secondary_metabolites=False, metabolite_data={'13dpg_c': -0.03599710029512122, '2pg_c': -0.024921…"
      ]
     },
     "metadata": {},
     "output_type": "display_data"
    }
   ],
   "source": [
    "draw_map(ecoli_core_model, solution)"
   ]
  },
  {
   "cell_type": "markdown",
   "metadata": {},
   "source": [
    "### **EX 5**. Growth on succinate under anaerobic conditions"
   ]
  },
  {
   "cell_type": "code",
   "execution_count": 24,
   "metadata": {},
   "outputs": [
    {
     "name": "stdout",
     "output_type": "stream",
     "text": [
      "{'EX_co2_e': 1000.0, 'EX_glc__D_e': 10.0, 'EX_h_e': 1000.0, 'EX_h2o_e': 1000.0, 'EX_nh4_e': 1000.0, 'EX_o2_e': 1000.0, 'EX_pi_e': 1000.0}\n",
      "Glucose Uptake bounds: 0.0 < v < 1000.0\n",
      "Succinate Uptake bounds: -18.0 < v < 1000.0\n",
      "Oxigen Uptake bounds: 0.0 < v < 1000.0\n",
      "{'EX_co2_e': 1000.0, 'EX_h_e': 1000.0, 'EX_h2o_e': 1000.0, 'EX_nh4_e': 1000.0, 'EX_pi_e': 1000.0, 'EX_succ_e': 18.0}\n"
     ]
    }
   ],
   "source": [
    "# reset model\n",
    "\n",
    "ecoli_core_model = ecoli_core.copy()\n",
    "print(ecoli_core_model.medium)\n",
    "# Stop Glucose uptake\n",
    "ecoli_core_model.reactions.get_by_id('EX_glc__D_e').lower_bound = 0.0\n",
    "lb, ub = ecoli_core_model.reactions.get_by_id('EX_glc__D_e').bounds\n",
    "print(\"Glucose Uptake bounds: {0} < v < {1}\".format(lb, ub))\n",
    "\n",
    "# Activate succinate uptake\n",
    "ecoli_core_model.reactions.get_by_id('EX_succ_e').lower_bound = -18.0\n",
    "lb, ub = ecoli_core_model.reactions.get_by_id('EX_succ_e').bounds\n",
    "print(\"Succinate Uptake bounds: {0} < v < {1}\".format(lb, ub))\n",
    "\n",
    "# Go to anaerobic\n",
    "ecoli_core_model.reactions.get_by_id('EX_o2_e').lower_bound = 0.0\n",
    "lb, ub = ecoli_core_model.reactions.get_by_id('EX_o2_e').bounds\n",
    "print(\"Oxigen Uptake bounds: {0} < v < {1}\".format(lb, ub))\n",
    "print(ecoli_core_model.medium)"
   ]
  },
  {
   "cell_type": "code",
   "execution_count": 25,
   "metadata": {},
   "outputs": [
    {
     "name": "stdout",
     "output_type": "stream",
     "text": [
      "Linear Solver Status: infeasible\n"
     ]
    },
    {
     "name": "stderr",
     "output_type": "stream",
     "text": [
      "/Users/afilisetti/Documents/VENVS/env-mge-22/lib/python3.9/site-packages/cobra/util/solver.py:554: UserWarning: Solver status is 'infeasible'.\n",
      "  warn(f\"Solver status is '{status}'.\", UserWarning)\n"
     ]
    }
   ],
   "source": [
    "# Optimize model \n",
    "solution = ecoli_core_model.optimize()\n",
    "# show FBA results\n",
    "print(\"Linear Solver Status: %s\" % solution.status) # status of the linear prog solver"
   ]
  },
  {
   "cell_type": "markdown",
   "metadata": {},
   "source": [
    "FBA predicts that **growth is not possible on succinate under anaerobic conditions**. Because the maximum amount of ATP that can be produced from this amount of succinate is less than the minimum bound of **$8.39~mmol~gDW^{-1}~hr^{-1}$ of the ATP maintenance reaction (ATPM, check the value with aerobic environemnt), there is no feasible solution**, (Orth et al. 2010). FBA predicted growth rates for all 13 organic substrates in the E. coli core model. The growth rates are all much lower anaerobically (0 hr-1 in most cases) because the electron transport chain cannot be used to fully oxidize the substrates and generate as much ATP."
   ]
  },
  {
   "cell_type": "markdown",
   "metadata": {},
   "source": [
    "# References\n",
    "The following tutorial has been made by integrating and adapting the information contained in the following references:\n",
    "\n",
    "- Klipp, E., Liebermeister, W., Wierling, C., Kowald, A., Lehrach, H., & Herwig, R. (2009). Systems Biology: A Textbook. Time. https://doi.org/10.3797/scipharm\n",
    "- Orth, J. D., Thiele, I., & Palsson, B. O. (2010). What is flux balance analysis? Nature Biotechnology, 28(3), 245–248. https://doi.org/10.1038/nbt.1614\n",
    "- Thiele, I. and B. O. Palsson (2010). \"A protocol for generating a high‐quality genome‐scale metabolic reconstruction.\" Nature protocols 5(1): 93‐121. \n",
    "- O’Brien, E. J., Monk, J. M., & Palsson, B. O. (2015). Using Genome-scale Models to Predict Biological Capabilities. Cell, 161(5), 971–987. https://doi.org/10.1016/j.cell.2015.05.019\n",
    "- Monk, J., Nogales, J., & Palsson, B. O. (2014). Optimizing genome-scale network reconstructions. Nature Biotechnology, 32(5), 447–452. https://doi.org/10.1038/nbt.2870\n",
    "- Harcombe, W. R., Riehl, W. J., Dukovski, I., Granger, B. R., Betts, A., Lang, A. H., … Segrè, D. (2014). Metabolic resource allocation in individual microbes determines ecosystem interactions and spatial dynamics. Cell Reports, 7(4), 1104–1115. https://doi.org/10.1016/j.celrep.2014.03.070\n",
    "- Kim, M. W., Sang Yi, J., Kim, J.-N. J. J.-N. N. J. J. J., Kim, J.-N. J. J.-N. N. J. J. J., Kim, M. W., Kim, B.-G. G., … Kim, B.-G. G. (2014). Reconstruction of high-quality metabolic model enables identification of gene overexpression targets for enhanced antibiotics production in Streptomyces coelicolor A3(2). Biotechnology Journal, 9(9), 1–33. https://doi.org/10.1002/biot.201300539.Submitted\n",
    "- O’Brien, E. J., Lerman, J. A., Chang, R. L., Hyduke, D. R., & Palsson, B. Ø. (2013). Genome-scale models of metabolism and gene expression extend and refine growth phenotype prediction. Molecular Systems Biology, 9, 693. https://doi.org/10.1038/msb.2013.52\n",
    "- Reznik, E., Mehta, P., & Segr??, D. (2013). Flux Imbalance Analysis and the Sensitivity of Cellular Growth to Changes in Metabolite Pools. PLoS Computational Biology, 9(8). https://doi.org/10.1371/journal.pcbi.1003195\n",
    "- Shimizu, K. (2013). Bacterial Cellular Metabolic Systems. Bacterial Cellular Metabolic Systems. https://doi.org/10.1533/9781908818201.95\n",
    "- Manuscript, A. (2013). NIH Public Access. Appl Microbiol Biotechnol, 81(4), 291–305. https://doi.org/10.1038/nrmicro2737.Constraining\n",
    "- Park, J. M., Park, H. M., Kim, W. J., Kim, H. U., Kim, T. Y., & Lee, S. Y. (2012). Flux variability scanning based on enforced objective flux for identifying gene amplification targets. BMC Systems Biology, 6, 106. https://doi.org/10.1186/1752-0509-6-106\n",
    "- Blazier, A. S., & Papin, J. A. (2012). Integration of expression data in genome-scale metabolic network reconstructions. Frontiers in Physiology, 3, 299. https://doi.org/10.3389/fphys.2012.00299\n",
    "- Noor, E., Lewis, N. E., & Milo, R. (2012). A proof for loop-law constraints in stoichiometric metabolic networks. BMC Systems Biology, 6, 140. https://doi.org/10.1186/1752-0509-6-140\n",
    "Copeland, W. B., Bartley, B. A., Chandran, D., Galdzicki, M., Kim, K. H., Sleight, S. C., … Sauro, H. M. (2012). - - Computational tools for metabolic engineering. Metabolic Engineering, 14(3), 270–280. https://doi.org/10.1016/j.ymben.2012.03.001\n",
    "- Lewis, N. E., Nagarajan, H., & Palsson, B. O. (2012). Constraining the metabolic genotype-phenotype relationship using a phylogeny of in silico methods. Nature Reviews. Microbiology, 10(4), 291–305. https://doi.org/10.1038/nrmicro2737\n",
    "- Curran, K. A., Crook, N. C., & Alper, H. S. (2012). Using flux balance analysis to guide microbial metabolic engineering. Methods in Molecular Biology (Clifton, N.J.), 834, 197–216. https://doi.org/10.1007/978-1-61779-483-4_13\n",
    "- Wessely, F., Bartl, M., Guthke, R., Li, P., Schuster, S., & Kaleta, C. (2011). Optimal regulatory strategies for metabolic pathways in Escherichia coli depending on protein costs. Molecular Systems Biology, 7, 515. https://doi.org/10.1038/msb.2011.46\n",
    "- Chen, X., Alonso, A. P., Allen, D. K., Reed, J. L., & Shachar-Hill, Y. (2011). Synergy between 13C-metabolic flux analysis and flux balance analysis for understanding metabolic adaption to anaerobiosis in E. coli. Metabolic Engineering, 13(1), 38–48. https://doi.org/10.1016/j.ymben.2010.11.004\n",
    "- Schellenberger, J., Que, R., Fleming, R. M. T., Thiele, I., Orth, J. D., Feist, A. M., … Palsson, B. Ø. (2011). Quantitative prediction of cellular metabolism with constraint-based models: the COBRA Toolbox v2.0. Nature Protocols, 6(9), 1290–1307. https://doi.org/10.1038/nprot.2011.308\n",
    "- Toya, Y., Kono, N., Arakawa, K., & Tomita, M. (2011). Metabolic flux analysis and visualization. Journal of Proteome Research, 10(8), 3313–3323. https://doi.org/10.1021/pr2002885\n",
    "- Zhang, W., Li, F., & Nie, L. (2010). Integrating multiple “omics” analysis for microbial biology: application and methodologies. Microbiology, 156(2), 287–301. https://doi.org/10.1099/mic.0.034793-0\n",
    "- Orth, J. D., Palsson, B. Ø., Fleming, R. M. T., & Palsson, B. Ø. (2010). Reconstruction and Use of Microbial Metabolic Networks: the Core Escherichia coli Metabolic Model as an Educational Guide. EcoSal Plus, 4(1), Ch.10.2.1. https://doi.org/10.1128/ecosalplus.10.2.1\n",
    "- Feist, A. M., & Palsson, B. O. (2010). The biomass objective function. Current Opinion in Microbiology. https://doi.org/10.1016/j.mib.2010.03.003\n",
    "- Orth, J. D., Fleming, R. M. T., & Palsson, B. Ø. (2010). Reconstruction and Use of Microbial Metabolic Networks: the Core Escherichia coli Metabolic Model as an Educational Guide. EcoSal, (2), Ch.10.2.1. https://doi.org/10.1128/ecosal.10.2.1"
   ]
  },
  {
   "cell_type": "code",
   "execution_count": null,
   "metadata": {},
   "outputs": [],
   "source": []
  }
 ],
 "metadata": {
  "kernelspec": {
   "display_name": "Python 3 (ipykernel)",
   "language": "python",
   "name": "python3"
  },
  "language_info": {
   "codemirror_mode": {
    "name": "ipython",
    "version": 3
   },
   "file_extension": ".py",
   "mimetype": "text/x-python",
   "name": "python",
   "nbconvert_exporter": "python",
   "pygments_lexer": "ipython3",
   "version": "3.9.7"
  },
  "toc": {
   "base_numbering": 1,
   "nav_menu": {},
   "number_sections": true,
   "sideBar": true,
   "skip_h1_title": true,
   "title_cell": "Table of Contents",
   "title_sidebar": "Contents",
   "toc_cell": true,
   "toc_position": {
    "height": "calc(100% - 180px)",
    "left": "10px",
    "top": "150px",
    "width": "374px"
   },
   "toc_section_display": true,
   "toc_window_display": true
  }
 },
 "nbformat": 4,
 "nbformat_minor": 4
}
